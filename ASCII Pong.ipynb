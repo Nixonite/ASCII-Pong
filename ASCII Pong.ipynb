{
 "cells": [
  {
   "cell_type": "code",
   "execution_count": null,
   "metadata": {
    "collapsed": false
   },
   "outputs": [],
   "source": [
    "class Player:\n",
    "    x = 0\n",
    "    def getPos(self):\n",
    "        return self.x\n",
    "    def setPos(self,newPos):\n",
    "        self.x = newPos\n",
    "\n",
    "class Board:\n",
    "    xDim = 20\n",
    "    yDim = 6\n",
    "    board = ['.'*xDim for x in range(yDim)]\n",
    "    def getY(self):\n",
    "        return self.yDim\n",
    "    def getX(self):\n",
    "        return self.xDim\n",
    "    def clearBall(self):\n",
    "        self.board[0:-1] = ['.'*(self.xDim-1) for x in range(self.yDim)]\n",
    "    def printBoard(self):\n",
    "        for i in self.board:\n",
    "            print i\n",
    "    def updatePlayer(self,playerPos):\n",
    "        lastLine = ['.']*(self.xDim-1)\n",
    "        lastLine[playerPos] = 'x'\n",
    "        lastLine = ''.join(lastLine)\n",
    "        self.board[-1]=lastLine\n",
    "    def updateBall(self,ballPos):\n",
    "        ballx = ballPos[0]\n",
    "        bally = ballPos[1]\n",
    "        line = ['.']*(self.xDim-1)\n",
    "        line[ballx] = 'o'\n",
    "        line = ''.join(line)\n",
    "        self.board[bally]=line\n",
    "\n",
    "class Ball:\n",
    "    ballx = 1\n",
    "    bally = 1\n",
    "    ballDx = 1\n",
    "    ballDy = 1\n",
    "    def getPos(self):\n",
    "        return (self.ballx,self.bally)\n",
    "    def setPos(self,x,y):\n",
    "        self.ballx = x\n",
    "        self.bally = y\n",
    "    def move(self):\n",
    "        self.setPos(self.ballx+self.ballDx,self.bally+self.ballDy)\n",
    "    def setDir(self,dx,dy):\n",
    "        self.ballDx = dx\n",
    "        self.ballDy = dy\n",
    "    def checkWalls(self,board):\n",
    "        if self.ballx ==0 or self.ballx == board.getX()-2:\n",
    "            self.setDir(self.ballDx*-1,self.ballDy)\n",
    "        if self.bally ==0:\n",
    "            self.setDir(self.ballDx,self.ballDy*-1)\n",
    "    def checkBottom(self,board,player):\n",
    "        if self.bally == board.getY() and player.getPos()==(self.ballx):\n",
    "            self.setDir(self.ballDx,self.ballDy*-1)\n",
    "            return False\n",
    "        else:#if the player has failed to hit the ball\n",
    "            return True\n",
    "        \n",
    "player = Player()\n",
    "board = Board()\n",
    "ball = Ball()\n",
    "player.setPos(6)\n",
    "\n",
    "for i in range(200):\n",
    "    player.setPos(int(raw_input()))\n",
    "    ball.checkWalls(board)\n",
    "    ball.checkBottom(board,player)\n",
    "    board.clearBall()\n",
    "    board.updateBall(ball.getPos())\n",
    "    board.updatePlayer(player.getPos())\n",
    "    board.printBoard()\n",
    "    ball.move()\n",
    "    print \"\\n\""
   ]
  },
  {
   "cell_type": "code",
   "execution_count": null,
   "metadata": {
    "collapsed": true
   },
   "outputs": [],
   "source": []
  }
 ],
 "metadata": {
  "kernelspec": {
   "display_name": "Python 2",
   "language": "python",
   "name": "python2"
  },
  "language_info": {
   "codemirror_mode": {
    "name": "ipython",
    "version": 2
   },
   "file_extension": ".py",
   "mimetype": "text/x-python",
   "name": "python",
   "nbconvert_exporter": "python",
   "pygments_lexer": "ipython2",
   "version": "2.7.6"
  }
 },
 "nbformat": 4,
 "nbformat_minor": 0
}
